{
 "cells": [
  {
   "cell_type": "markdown",
   "metadata": {},
   "source": [
    "# Network from a Text"
   ]
  },
  {
   "cell_type": "code",
   "execution_count": 2,
   "metadata": {},
   "outputs": [],
   "source": [
    "import networkx as nx"
   ]
  },
  {
   "cell_type": "code",
   "execution_count": 3,
   "metadata": {},
   "outputs": [],
   "source": [
    "# Ignore articles, pronouns, etc.\n",
    "stop_words = set([\n",
    "    'the', 'of', 'and', 'i', 'to', 'my', 'in', 'was', 'that', 'thy',\n",
    "    'a', 'had', 'my', 'with', 'but', 'he', 'she', 'you', 'your',\n",
    "    'me', 'not', 'as', 'will', 'from', 'on', 'be', 'it', 'which',\n",
    "    'for', 'his', 'him', 'chapter', 'at', 'who', 'by', 'have',\n",
    "    'would', 'is', 'been', 'when', 'they', 'there', 'we', 'are',\n",
    "    'our', 'if', 'her', 'were', 'than', 'this', 'what', 'so',\n",
    "    'yet', 'more', 'their', 'them', 'or', 'could', 'an', 'can',\n",
    "    'said', 'may', 'do', 'these', 'shall', 'how', 'shall', 'asked',\n",
    "    'before', 'those', 'whom', 'am', 'even', 'its', 'did', 'then',\n",
    "    'abbey', 'tintern', 'wordsworth', 'letter', 'thee', 'thou', 'oh',\n",
    "    'into', 'any', 'myself', 'nor', 'himself', 'one', 'all', 'no', 'yes'\n",
    "    'now', 'upon', 'only', 'might', 'every', 'own', 'such', 'towards',\n",
    "    'again', 'most', 'ever', 'where', 'after', 'up', 'soon', 'many',\n",
    "    'also', 'like', 'over', 'us', 'thus', 'has', 'about']\n",
    "    + [str(x) for x in range(24)])"
   ]
  },
  {
   "cell_type": "code",
   "execution_count": 4,
   "metadata": {},
   "outputs": [],
   "source": [
    "# This example uses regular expressions from the re package\n",
    "import re\n",
    "\n",
    "# Construct a network from a text\n",
    "def co_occurrence_network(text):\n",
    "    # Create a new network\n",
    "    G = nx.Graph()\n",
    "    # Split the text into sentences and iterate through them\n",
    "    sentences = text.split('.')\n",
    "    for s in sentences:\n",
    "        # Remove punctuation and convert to lowercase\n",
    "        clean = re.sub('[^\\w\\n ]+', '', s).lower()\n",
    "        clean = re.sub('_+', '', clean).strip()\n",
    "        # Create list of words separated by whitespace\n",
    "        words = re.split('\\s+', clean)\n",
    "        # Create an edge for each pair of words\n",
    "        for v in words:\n",
    "            # Update word count, add node if necessary\n",
    "            # increment count for each word and store it in 'count' property of nodes\n",
    "            # increment count for each pair of words in the senteces\n",
    "            pass\n",
    "\n",
    "    return G"
   ]
  },
  {
   "cell_type": "code",
   "execution_count": 11,
   "metadata": {},
   "outputs": [],
   "source": [
    "# Read the text\n",
    "from pathlib import Path\n",
    "data_dir = Path('.') / 'data'\n",
    "\n",
    "with open(data_dir / 'frankenstein.txt', encoding='utf-8') as f:\n",
    "    text = f.read()\n",
    "# Create a network from the text\n",
    "G = co_occurrence_network(text)"
   ]
  },
  {
   "cell_type": "code",
   "execution_count": 13,
   "metadata": {
    "scrolled": true
   },
   "outputs": [
    {
     "data": {
      "text/plain": [
       "[('man', 'old', {'count': 68}),\n",
       " ('country', 'native', {'count': 38}),\n",
       " ('first', 'now', {'count': 32}),\n",
       " ('death', 'life', {'count': 32}),\n",
       " ('human', 'being', {'count': 32}),\n",
       " ('natural', 'philosophy', {'count': 32}),\n",
       " ('eyes', 'tears', {'count': 30}),\n",
       " ('first', 'eyes', {'count': 28}),\n",
       " ('some', 'time', {'count': 28}),\n",
       " ('night', 'during', {'count': 28})]"
      ]
     },
     "execution_count": 13,
     "metadata": {},
     "output_type": "execute_result"
    }
   ],
   "source": [
    "k = 10\n",
    "# print k edges with the highest count"
   ]
  },
  {
   "cell_type": "code",
   "execution_count": null,
   "metadata": {},
   "outputs": [],
   "source": [
    "pos=nx.spring_layout(G)\n",
    "nx.draw_networkx_nodes(G, pos, alpha=0)\n",
    "nx.draw_networkx_edges(\n",
    "    G, pos, edge_color=\"#333333\", alpha=0.05)\n",
    "# Zoom in for a better view\n",
    "plt.xlim([-0.1,0.1]); plt.ylim([-0.1, 0.1])"
   ]
  },
  {
   "cell_type": "code",
   "execution_count": null,
   "metadata": {},
   "outputs": [],
   "source": [
    "# Count co-occurrences for characters only\n",
    "characters = [\n",
    "    'creature', 'monster', 'victor', 'elizabeth',\n",
    "    'william', 'henry', 'justine']\n",
    "\n",
    "# plot the resulting graph with wider edges for higher count of co-occurence"
   ]
  }
 ],
 "metadata": {
  "kernelspec": {
   "display_name": "Python 3",
   "language": "python",
   "name": "python3"
  },
  "language_info": {
   "codemirror_mode": {
    "name": "ipython",
    "version": 3
   },
   "file_extension": ".py",
   "mimetype": "text/x-python",
   "name": "python",
   "nbconvert_exporter": "python",
   "pygments_lexer": "ipython3",
   "version": "3.6.5"
  }
 },
 "nbformat": 4,
 "nbformat_minor": 2
}
