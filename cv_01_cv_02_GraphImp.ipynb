{
 "cells": [
  {
   "cell_type": "markdown",
   "metadata": {},
   "source": [
    "# A small exercise in Python"
   ]
  },
  {
   "cell_type": "markdown",
   "metadata": {},
   "source": [
    "Implement a class for directed graphs using adjacency matrix"
   ]
  },
  {
   "cell_type": "code",
   "execution_count": null,
   "metadata": {},
   "outputs": [],
   "source": []
  },
  {
   "cell_type": "code",
   "execution_count": 2,
   "metadata": {},
   "outputs": [],
   "source": [
    "class Vertex:\n",
    "    def __init__(self,n):\n",
    "        self.id = n"
   ]
  },
  {
   "cell_type": "code",
   "execution_count": 3,
   "metadata": {},
   "outputs": [],
   "source": [
    "class GraphAdjMat:\n",
    "    \"\"\"Graph implemented as adjacency matrix\"\"\"\n",
    "    \n",
    "    def __init__(self):\n",
    "        self.adjMatrix ={}\n",
    "\n",
    "\n",
    "    def addVertex(self, v):\n",
    "        \"\"\"Add one vertex v into the graph, its id will be used as index\"\"\"\n",
    "        if v not in self.adjMatrix:\n",
    "            self.adjMatrix[v.id] = {}\n",
    "\n",
    "    def addEdge(self,u,v,weight=1):\n",
    "        \"\"\"Add one edge from vertex u to vertex v\"\"\"\n",
    "        if u.id not in self.adjMatrix:\n",
    "            self.addVertex(u)\n",
    "        if v.id not in self.adjMatrix:\n",
    "            self.addVertex(v)\n",
    "\n",
    "        self.adjMatrix[u.id][v.id] = weight\n",
    "        self.adjMatrix[v.id][u.id] = weight\n",
    "    \n",
    "    \n",
    "    def printGraph(self):\n",
    "        for m in self.adjMatrix:\n",
    "          print(str(m) + \":\", end=\" \")\n",
    "          for n in self.adjMatrix[m]:\n",
    "            print([n,self.adjMatrix[m][n]],end=\" \")\n",
    "          print()"
   ]
  },
  {
   "cell_type": "code",
   "execution_count": 4,
   "metadata": {},
   "outputs": [
    {
     "name": "stdout",
     "output_type": "stream",
     "text": [
      "A: ['E', 1] \n",
      "B: ['E', 1] \n",
      "C: ['D', 1] \n",
      "D: ['E', 1] \n",
      "E: ['B', 1] \n"
     ]
    }
   ],
   "source": [
    "g = GraphAdjMat()\n",
    "u = Vertex('A')\n",
    "v = Vertex('B')\n",
    "g.addVertex(u)\n",
    "for n in [u,v]:\n",
    "    g.addVertex(n)\n",
    "e_txt = [\"AB\",\"BC\",\"BD\",\"CE\",\"CD\",\"ED\",\"EA\",\"BE\"]\n",
    "G=GraphAdjMat()\n",
    "for e in e_txt:\n",
    "    a = Vertex(e[0])\n",
    "    b = Vertex(e[1])\n",
    "    G.addVertex(a)    \n",
    "    G.addVertex(b)\n",
    "    G.addEdge(a,b)\n",
    "    \n",
    "G.printGraph()"
   ]
  },
  {
   "cell_type": "markdown",
   "metadata": {},
   "source": [
    "The following statement assigns list of undirected edges to the list `data`. Each item of the list contains:\n",
    " 1. source node\n",
    " 2. destination node\n",
    " 3. data associated to the edge"
   ]
  },
  {
   "cell_type": "code",
   "execution_count": 5,
   "metadata": {},
   "outputs": [],
   "source": [
    "data = [\n",
    "(0, 1, {'internal': True, 'weight': 8}),\n",
    "(0, 2, {'internal': True, 'weight': 6}),\n",
    "(0, 3, {'internal': True, 'weight': 6}),\n",
    "(0, 4, {'internal': True, 'weight': 3}),\n",
    "(0, 5, {'internal': True, 'weight': 3}),\n",
    "(0, 6, {'internal': True, 'weight': 3}),\n",
    "(0, 7, {'internal': True, 'weight': 4}),\n",
    "(0, 8, {'internal': False, 'weight': 2}),\n",
    "(0, 10, {'internal': True, 'weight': 3}),\n",
    "(0, 11, {'internal': True, 'weight': 1}),\n",
    "(0, 12, {'internal': True, 'weight': 2}),\n",
    "(0, 13, {'internal': True, 'weight': 4}),\n",
    "(0, 17, {'internal': True, 'weight': 2}),\n",
    "(0, 19, {'internal': True, 'weight': 2}),\n",
    "(0, 21, {'internal': True, 'weight': 2}),\n",
    "(0, 31, {'internal': False, 'weight': 1}),\n",
    "(1, 2, {'internal': True, 'weight': 5}),\n",
    "(1, 3, {'internal': True, 'weight': 5}),\n",
    "(1, 7, {'internal': True, 'weight': 4}),\n",
    "(1, 13, {'internal': True, 'weight': 4}),\n",
    "(1, 17, {'internal': True, 'weight': 2}),\n",
    "(1, 19, {'internal': True, 'weight': 2}),\n",
    "(1, 21, {'internal': True, 'weight': 2}),\n",
    "(1, 30, {'internal': False, 'weight': 1}),\n",
    "(2, 3, {'internal': True, 'weight': 5}),\n",
    "(2, 7, {'internal': True, 'weight': 4}),\n",
    "(2, 8, {'internal': False, 'weight': 3}),\n",
    "(2, 9, {'internal': False, 'weight': 1}),\n",
    "(2, 13, {'internal': True, 'weight': 4}),\n",
    "(2, 27, {'internal': False, 'weight': 1}),\n",
    "(2, 28, {'internal': False, 'weight': 1}),\n",
    "(2, 32, {'internal': False, 'weight': 2}),\n",
    "(3, 7, {'internal': True, 'weight': 4}),\n",
    "(3, 12, {'internal': True, 'weight': 2}),\n",
    "(3, 13, {'internal': True, 'weight': 4}),\n",
    "(4, 6, {'internal': True, 'weight': 2}),\n",
    "(4, 10, {'internal': True, 'weight': 2}),\n",
    "(5, 6, {'internal': True, 'weight': 3}),\n",
    "(5, 10, {'internal': True, 'weight': 2}),\n",
    "(5, 16, {'internal': True, 'weight': 2}),\n",
    "(6, 16, {'internal': True, 'weight': 2}),\n",
    "(8, 30, {'internal': True, 'weight': 3}),\n",
    "(8, 32, {'internal': True, 'weight': 4}),\n",
    "(8, 33, {'internal': True, 'weight': 3}),\n",
    "(9, 33, {'internal': True, 'weight': 1}),\n",
    "(13, 33, {'internal': False, 'weight': 1}),\n",
    "(14, 32, {'internal': True, 'weight': 2}),\n",
    "(14, 33, {'internal': True, 'weight': 2}),\n",
    "(15, 32, {'internal': True, 'weight': 2}),\n",
    "(15, 33, {'internal': True, 'weight': 2}),\n",
    "(18, 32, {'internal': True, 'weight': 2}),\n",
    "(18, 33, {'internal': True, 'weight': 2}),\n",
    "(19, 33, {'internal': False, 'weight': 1}),\n",
    "(20, 32, {'internal': True, 'weight': 2}),\n",
    "(20, 33, {'internal': True, 'weight': 2}),\n",
    "(22, 32, {'internal': True, 'weight': 2}),\n",
    "(22, 33, {'internal': True, 'weight': 2}),\n",
    "(23, 25, {'internal': True, 'weight': 1}),\n",
    "(23, 27, {'internal': True, 'weight': 2}),\n",
    "(23, 29, {'internal': True, 'weight': 3}),\n",
    "(23, 32, {'internal': True, 'weight': 3}),\n",
    "(23, 33, {'internal': True, 'weight': 4}),\n",
    "(24, 25, {'internal': True, 'weight': 2}),\n",
    "(24, 27, {'internal': True, 'weight': 1}),\n",
    "(24, 31, {'internal': True, 'weight': 2}),\n",
    "(25, 31, {'internal': True, 'weight': 2}),\n",
    "(26, 29, {'internal': True, 'weight': 2}),\n",
    "(26, 33, {'internal': True, 'weight': 2}),\n",
    "(27, 33, {'internal': True, 'weight': 2}),\n",
    "(28, 31, {'internal': True, 'weight': 2}),\n",
    "(28, 33, {'internal': True, 'weight': 2}),\n",
    "(29, 32, {'internal': True, 'weight': 3}),\n",
    "(29, 33, {'internal': True, 'weight': 4}),\n",
    "(30, 32, {'internal': True, 'weight': 3}),\n",
    "(30, 33, {'internal': True, 'weight': 3}),\n",
    "(31, 32, {'internal': True, 'weight': 2}),\n",
    "(31, 33, {'internal': True, 'weight': 3}),\n",
    "(32, 33, {'internal': True, 'weight': 11})\n",
    "]"
   ]
  },
  {
   "cell_type": "markdown",
   "metadata": {},
   "source": [
    "Create a graph from the edge list. Find the first five nodes with\n",
    " 1. highest degree\n",
    " 1. highest indegree\n",
    " 1. highest outdegree"
   ]
  },
  {
   "cell_type": "code",
   "execution_count": null,
   "metadata": {},
   "outputs": [],
   "source": []
  },
  {
   "cell_type": "code",
   "execution_count": null,
   "metadata": {},
   "outputs": [],
   "source": []
  }
 ],
 "metadata": {
  "kernelspec": {
   "display_name": "Python 3",
   "language": "python",
   "name": "python3"
  },
  "language_info": {
   "codemirror_mode": {
    "name": "ipython",
    "version": 3
   },
   "file_extension": ".py",
   "mimetype": "text/x-python",
   "name": "python",
   "nbconvert_exporter": "python",
   "pygments_lexer": "ipython3",
   "version": "3.8.5"
  }
 },
 "nbformat": 4,
 "nbformat_minor": 4
}
