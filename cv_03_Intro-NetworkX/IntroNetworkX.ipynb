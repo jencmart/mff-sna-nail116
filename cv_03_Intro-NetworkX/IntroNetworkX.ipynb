{
 "cells": [
  {
   "cell_type": "markdown",
   "metadata": {
    "slideshow": {
     "slide_type": "slide"
    }
   },
   "source": [
    "# Introduction to NetworkX\n",
    "\n",
    "## F. Mráz"
   ]
  },
  {
   "cell_type": "markdown",
   "metadata": {
    "slideshow": {
     "slide_type": "slide"
    }
   },
   "source": [
    "NetworkX is a Python package for modeling, analyzing, and visializing networks\n",
    "\n",
    "* several types of networks\n",
    "* several algorithms for network analysis\n",
    "* read/write networks in many formats\n",
    "\n",
    "Documentation:  <https://networkx.github.io/documentation/stable/>"
   ]
  },
  {
   "cell_type": "markdown",
   "metadata": {
    "slideshow": {
     "slide_type": "slide"
    }
   },
   "source": [
    "At first, we must import the module networkx"
   ]
  },
  {
   "cell_type": "code",
   "execution_count": 1,
   "metadata": {
    "slideshow": {
     "slide_type": "fragment"
    }
   },
   "outputs": [],
   "source": [
    "import networkx as nx"
   ]
  },
  {
   "cell_type": "markdown",
   "metadata": {
    "slideshow": {
     "slide_type": "fragment"
    }
   },
   "source": [
    "## Creating Simple Graphs "
   ]
  },
  {
   "cell_type": "code",
   "execution_count": 2,
   "metadata": {
    "slideshow": {
     "slide_type": "fragment"
    }
   },
   "outputs": [],
   "source": [
    "# create an undirected graph (network)\n",
    "G = nx.Graph()"
   ]
  },
  {
   "cell_type": "markdown",
   "metadata": {
    "collapsed": true,
    "slideshow": {
     "slide_type": "fragment"
    }
   },
   "source": [
    "The graph can have an arbitrary additional information."
   ]
  },
  {
   "cell_type": "code",
   "execution_count": 7,
   "metadata": {
    "slideshow": {
     "slide_type": "fragment"
    }
   },
   "outputs": [
    {
     "data": {
      "text/plain": [
       "<networkx.classes.graph.Graph at 0x7fe3d04fa850>"
      ]
     },
     "execution_count": 7,
     "metadata": {},
     "output_type": "execute_result"
    }
   ],
   "source": [
    "G.name = \"The first simple graph\"\n",
    "G.dsfsdfds = \"dbbbdasfdsa\"\n",
    "G"
   ]
  },
  {
   "cell_type": "code",
   "execution_count": 9,
   "metadata": {
    "slideshow": {
     "slide_type": "fragment"
    }
   },
   "outputs": [
    {
     "data": {
      "text/plain": [
       "'The first simple graph'"
      ]
     },
     "execution_count": 9,
     "metadata": {},
     "output_type": "execute_result"
    }
   ],
   "source": [
    "G.name"
   ]
  },
  {
   "cell_type": "markdown",
   "metadata": {
    "slideshow": {
     "slide_type": "slide"
    }
   },
   "source": [
    "## Nodes\n",
    "\n",
    "Nodes in graphs manipulated with networkx can be arbitrary objects that are hashable. Most commnon are *numbers* and  *strings*."
   ]
  },
  {
   "cell_type": "code",
   "execution_count": 9,
   "metadata": {
    "slideshow": {
     "slide_type": "fragment"
    }
   },
   "outputs": [
    {
     "data": {
      "text/plain": [
       "NodeView((1, 2, 3, 4, 5, 6))"
      ]
     },
     "execution_count": 9,
     "metadata": {},
     "output_type": "execute_result"
    }
   ],
   "source": [
    "# adding one node at a time\n",
    "G.add_node(1)\n",
    "G.add_node(2)\n",
    "\n",
    "# adding several nodes at once\n",
    "G.add_nodes_from([3,4,5,6])\n",
    "\n",
    "G.nodes"
   ]
  },
  {
   "cell_type": "markdown",
   "metadata": {
    "slideshow": {
     "slide_type": "fragment"
    }
   },
   "source": [
    "The argument `X` in `nx.add_nodes_from(X)` can be any iterable container.\n",
    "\n",
    "Even a graph can be a node!"
   ]
  },
  {
   "cell_type": "markdown",
   "metadata": {
    "slideshow": {
     "slide_type": "slide"
    }
   },
   "source": [
    "## Edges"
   ]
  },
  {
   "cell_type": "code",
   "execution_count": 10,
   "metadata": {
    "slideshow": {
     "slide_type": "fragment"
    }
   },
   "outputs": [
    {
     "data": {
      "text/plain": [
       "EdgeView([(1, 2), (1, 6), (2, 3), (3, 4), (4, 5), (5, 6)])"
      ]
     },
     "execution_count": 10,
     "metadata": {},
     "output_type": "execute_result"
    }
   ],
   "source": [
    "# ading edeges one at a time\n",
    "G.add_edge(1,2)\n",
    "e = (2,3)\n",
    "G.add_edge(*e)    # unpack the tuple e\n",
    "\n",
    "# adding several edges at once\n",
    "G.add_edges_from([(3,4),(4,5),(5,6),(6,1)])\n",
    "\n",
    "G.edges"
   ]
  },
  {
   "cell_type": "markdown",
   "metadata": {
    "slideshow": {
     "slide_type": "fragment"
    }
   },
   "source": [
    "The argument E in nx.add_nodes_from(E) can be any iterable container of edge-tuples. An edge-tuple can be\n",
    "* a 2-tuple - `(node`$_1$ `,node`$_2$ `)`\n",
    "* a 3-tuple - `(node`$_1$ `,node`$_2$ `, dc)`, where `dc` is a dictionary of edge attributes."
   ]
  },
  {
   "cell_type": "code",
   "execution_count": 11,
   "metadata": {
    "slideshow": {
     "slide_type": "fragment"
    }
   },
   "outputs": [
    {
     "data": {
      "text/plain": [
       "EdgeView([(1, 2), (1, 6), (2, 3), (3, 4), (4, 5), (5, 6)])"
      ]
     },
     "execution_count": 11,
     "metadata": {},
     "output_type": "execute_result"
    }
   ],
   "source": [
    "G.add_edge(1,2,weight=2.1)\n",
    "G.add_edges_from([(2,3,{'weight':1.0}), (3,4,{'weight': 3.9})  ])\n",
    "G.edges"
   ]
  },
  {
   "cell_type": "markdown",
   "metadata": {
    "slideshow": {
     "slide_type": "slide"
    }
   },
   "source": [
    "### Notes\n",
    "\n",
    "* Adding existing nodes is no error\n",
    "* Adding existing edges is no error\n",
    "* Even a graph can be a node!\n",
    "* any edge and node can have an arbitrary number of atributes"
   ]
  },
  {
   "cell_type": "code",
   "execution_count": 12,
   "metadata": {
    "slideshow": {
     "slide_type": "fragment"
    }
   },
   "outputs": [
    {
     "data": {
      "text/plain": [
       "NodeView((1, 2, 3, 4, 5, 6))"
      ]
     },
     "execution_count": 12,
     "metadata": {},
     "output_type": "execute_result"
    }
   ],
   "source": [
    "G.nodes[1]['name'] = \"A\"\n",
    "G.nodes[2]['name'] = \"B\"\n",
    "G.add_node(3,name = \"C\")\n",
    "G.nodes"
   ]
  },
  {
   "cell_type": "code",
   "execution_count": 13,
   "metadata": {
    "slideshow": {
     "slide_type": "subslide"
    }
   },
   "outputs": [
    {
     "data": {
      "text/plain": [
       "[1, 2, 3, 4, 5, 6]"
      ]
     },
     "execution_count": 13,
     "metadata": {},
     "output_type": "execute_result"
    }
   ],
   "source": [
    "list(G.nodes)"
   ]
  },
  {
   "cell_type": "code",
   "execution_count": 14,
   "metadata": {
    "slideshow": {
     "slide_type": "fragment"
    }
   },
   "outputs": [
    {
     "data": {
      "text/plain": [
       "{'name': 'A'}"
      ]
     },
     "execution_count": 14,
     "metadata": {},
     "output_type": "execute_result"
    }
   ],
   "source": [
    "G.nodes[1]"
   ]
  },
  {
   "cell_type": "code",
   "execution_count": 15,
   "metadata": {
    "slideshow": {
     "slide_type": "fragment"
    }
   },
   "outputs": [
    {
     "data": {
      "text/plain": [
       "NodeDataView({1: {'name': 'A'}, 2: {'name': 'B'}, 3: {'name': 'C'}, 4: {}, 5: {}, 6: {}})"
      ]
     },
     "execution_count": 15,
     "metadata": {},
     "output_type": "execute_result"
    }
   ],
   "source": [
    "G.nodes.data()"
   ]
  },
  {
   "cell_type": "markdown",
   "metadata": {
    "slideshow": {
     "slide_type": "slide"
    }
   },
   "source": [
    "## Removing Nodes and Edges"
   ]
  },
  {
   "cell_type": "code",
   "execution_count": 16,
   "metadata": {
    "slideshow": {
     "slide_type": "fragment"
    }
   },
   "outputs": [
    {
     "name": "stdout",
     "output_type": "stream",
     "text": [
      "[1, 2, 3]\n",
      "[(1, 2), (2, 3)]\n"
     ]
    }
   ],
   "source": [
    "G.remove_edge(1,6)\n",
    "G.remove_edges_from([(4,5),(5,6)])\n",
    "G.remove_node(4)\n",
    "G.remove_nodes_from([5,6])\n",
    "print(list(G.nodes))\n",
    "print(list(G.edges))"
   ]
  },
  {
   "cell_type": "markdown",
   "metadata": {
    "slideshow": {
     "slide_type": "slide"
    }
   },
   "source": [
    "## Accessing Nodes and Edges"
   ]
  },
  {
   "cell_type": "code",
   "execution_count": 18,
   "metadata": {
    "slideshow": {
     "slide_type": "fragment"
    }
   },
   "outputs": [
    {
     "name": "stdout",
     "output_type": "stream",
     "text": [
      "Nodes: [1, 2, 3, 4]\n",
      "Edges: [(1, 2), (1, 3), (2, 3), (3, 4)]\n"
     ]
    },
    {
     "data": {
      "text/plain": [
       "AtlasView({2: {'weight': 1.0}, 3: {'weight': 1.5}})"
      ]
     },
     "execution_count": 18,
     "metadata": {},
     "output_type": "execute_result"
    }
   ],
   "source": [
    "G.clear()              # clear everything from G\n",
    "G.add_edges_from([(1,2,{'weight':1.0}), (2,3,{'weight':2.0}), (1,3,{'weight':1.5}), \n",
    "                  (3,4,{'weight':2.0})])\n",
    "print('Nodes:',list(G.nodes))\n",
    "print('Edges:',list(G.edges))\n",
    "\n",
    "G[1]   # this is a view on the neighbors of node 1\n"
   ]
  },
  {
   "cell_type": "code",
   "execution_count": 19,
   "metadata": {
    "slideshow": {
     "slide_type": "fragment"
    }
   },
   "outputs": [
    {
     "data": {
      "text/plain": [
       "AdjacencyView({1: {2: {'weight': 1.0}, 3: {'weight': 1.5}}, 2: {1: {'weight': 1.0}, 3: {'weight': 2.0}}, 3: {2: {'weight': 2.0}, 1: {'weight': 1.5}, 4: {'weight': 2.0}}, 4: {3: {'weight': 2.0}}})"
      ]
     },
     "execution_count": 19,
     "metadata": {},
     "output_type": "execute_result"
    }
   ],
   "source": [
    "G.adj"
   ]
  },
  {
   "cell_type": "code",
   "execution_count": 20,
   "metadata": {
    "slideshow": {
     "slide_type": "fragment"
    }
   },
   "outputs": [
    {
     "data": {
      "text/plain": [
       "AtlasView({2: {'weight': 1.0}, 3: {'weight': 1.5}})"
      ]
     },
     "execution_count": 20,
     "metadata": {},
     "output_type": "execute_result"
    }
   ],
   "source": [
    "G.adj[1]"
   ]
  },
  {
   "cell_type": "code",
   "execution_count": 21,
   "metadata": {
    "slideshow": {
     "slide_type": "subslide"
    }
   },
   "outputs": [
    {
     "data": {
      "text/plain": [
       "{'weight': 1.0}"
      ]
     },
     "execution_count": 21,
     "metadata": {},
     "output_type": "execute_result"
    }
   ],
   "source": [
    "G[1][2]"
   ]
  },
  {
   "cell_type": "code",
   "execution_count": 22,
   "metadata": {
    "slideshow": {
     "slide_type": "fragment"
    }
   },
   "outputs": [
    {
     "data": {
      "text/plain": [
       "{'weight': 1.0}"
      ]
     },
     "execution_count": 22,
     "metadata": {},
     "output_type": "execute_result"
    }
   ],
   "source": [
    "G.edges[1,2]"
   ]
  },
  {
   "cell_type": "code",
   "execution_count": 23,
   "metadata": {
    "slideshow": {
     "slide_type": "slide"
    }
   },
   "outputs": [
    {
     "data": {
      "text/plain": [
       "AtlasView({1: {'weight': 1.0, 'color': 'blue'}, 3: {'weight': 2.0, 'color': 'red'}})"
      ]
     },
     "execution_count": 23,
     "metadata": {},
     "output_type": "execute_result"
    }
   ],
   "source": [
    "G.edges[1,2]['color'] = \"blue\"\n",
    "G[2][3]['color'] = \"red\"\n",
    "G[2]"
   ]
  },
  {
   "cell_type": "code",
   "execution_count": 24,
   "metadata": {
    "slideshow": {
     "slide_type": "fragment"
    }
   },
   "outputs": [
    {
     "data": {
      "text/plain": [
       "[(1, {2: {'weight': 1.0, 'color': 'blue'}, 3: {'weight': 1.5}}),\n",
       " (2,\n",
       "  {1: {'weight': 1.0, 'color': 'blue'}, 3: {'weight': 2.0, 'color': 'red'}}),\n",
       " (3,\n",
       "  {2: {'weight': 2.0, 'color': 'red'},\n",
       "   1: {'weight': 1.5},\n",
       "   4: {'weight': 2.0}}),\n",
       " (4, {3: {'weight': 2.0}})]"
      ]
     },
     "execution_count": 24,
     "metadata": {},
     "output_type": "execute_result"
    }
   ],
   "source": [
    "list(G.adjacency())"
   ]
  },
  {
   "cell_type": "code",
   "execution_count": 25,
   "metadata": {
    "slideshow": {
     "slide_type": "fragment"
    }
   },
   "outputs": [
    {
     "name": "stdout",
     "output_type": "stream",
     "text": [
      "1, 2, 1.0\n",
      "1, 3, 1.5\n",
      "2, 3, 2.0\n",
      "3, 4, 2.0\n"
     ]
    }
   ],
   "source": [
    "for (u,v,w) in G.edges.data('weight'):\n",
    "    print('{}, {}, {}'.format(u,v,w))"
   ]
  },
  {
   "cell_type": "markdown",
   "metadata": {
    "slideshow": {
     "slide_type": "slide"
    }
   },
   "source": [
    "## Atributes of Graphs, Nodes and Edges\n",
    "\n",
    "Each grah, node and edge can have attributes that are stored in a associated attribute dictionary. Attributes are empty by default. "
   ]
  },
  {
   "cell_type": "markdown",
   "metadata": {
    "slideshow": {
     "slide_type": "subslide"
    }
   },
   "source": [
    "### Graph Attributes\n",
    "\n",
    "They can be added when creating a new graph"
   ]
  },
  {
   "cell_type": "code",
   "execution_count": 26,
   "metadata": {
    "slideshow": {
     "slide_type": "fragment"
    }
   },
   "outputs": [
    {
     "data": {
      "text/plain": [
       "{'time': '1pm'}"
      ]
     },
     "execution_count": 26,
     "metadata": {},
     "output_type": "execute_result"
    }
   ],
   "source": [
    "G = nx.Graph(time = '1pm')    \n",
    "G.graph"
   ]
  },
  {
   "cell_type": "markdown",
   "metadata": {
    "slideshow": {
     "slide_type": "fragment"
    }
   },
   "source": [
    "changed or added later"
   ]
  },
  {
   "cell_type": "code",
   "execution_count": 27,
   "metadata": {
    "slideshow": {
     "slide_type": "fragment"
    }
   },
   "outputs": [
    {
     "name": "stdout",
     "output_type": "stream",
     "text": [
      "{'time': '2pm'}\n"
     ]
    },
    {
     "data": {
      "text/plain": [
       "{'time': '2pm', 'event': 'tournament'}"
      ]
     },
     "execution_count": 27,
     "metadata": {},
     "output_type": "execute_result"
    }
   ],
   "source": [
    "G.graph['time'] = '2pm'\n",
    "print(G.graph)\n",
    "G.graph['event'] = 'tournament'\n",
    "G.graph"
   ]
  },
  {
   "cell_type": "markdown",
   "metadata": {
    "slideshow": {
     "slide_type": "subslide"
    }
   },
   "source": [
    "### Node attributes"
   ]
  },
  {
   "cell_type": "code",
   "execution_count": 28,
   "metadata": {
    "slideshow": {
     "slide_type": "fragment"
    }
   },
   "outputs": [
    {
     "data": {
      "text/plain": [
       "{'name': 'Ethan'}"
      ]
     },
     "execution_count": 28,
     "metadata": {},
     "output_type": "execute_result"
    }
   ],
   "source": [
    "G.add_node(1, name='Ethan')\n",
    "G.add_nodes_from([3,4], team='Bulls')\n",
    "G.nodes[1]"
   ]
  },
  {
   "cell_type": "code",
   "execution_count": 29,
   "metadata": {
    "slideshow": {
     "slide_type": "fragment"
    }
   },
   "outputs": [
    {
     "data": {
      "text/plain": [
       "NodeDataView({1: {'name': 'Ethan', 'court': 4}, 3: {'team': 'Bulls'}, 4: {'team': 'Bulls'}})"
      ]
     },
     "execution_count": 29,
     "metadata": {},
     "output_type": "execute_result"
    }
   ],
   "source": [
    "G.nodes[1]['court'] = 4\n",
    "G.nodes.data()"
   ]
  },
  {
   "cell_type": "markdown",
   "metadata": {
    "slideshow": {
     "slide_type": "fragment"
    }
   },
   "source": [
    "**Warning:** Adding nodes to `G.nodes` does not add them to the graph. It is necessary to use `add_node()` or `add_nodes_from()`. Similarly for edges!"
   ]
  },
  {
   "cell_type": "markdown",
   "metadata": {
    "slideshow": {
     "slide_type": "subslide"
    }
   },
   "source": [
    "### Edge Attributes"
   ]
  },
  {
   "cell_type": "code",
   "execution_count": 30,
   "metadata": {
    "slideshow": {
     "slide_type": "fragment"
    }
   },
   "outputs": [
    {
     "data": {
      "text/plain": [
       "[(1, {2: {'round': 3, 'time': '2:30pm'}}),\n",
       " (3, {4: {'round': 2, 'time': '4pm'}, 2: {'time': '3pm'}}),\n",
       " (4, {3: {'round': 2, 'time': '4pm'}, 5: {'round': 2}}),\n",
       " (2, {1: {'round': 3, 'time': '2:30pm'}, 3: {'time': '3pm'}}),\n",
       " (5, {4: {'round': 2}})]"
      ]
     },
     "execution_count": 30,
     "metadata": {},
     "output_type": "execute_result"
    }
   ],
   "source": [
    "G.add_edge(1, 2, round=1 )\n",
    "G.add_edges_from([(3, 4), (4, 5)], round=2)\n",
    "G.add_edges_from([(1, 2, {'round': 3}), (2, 3, {'time': '3pm'})])\n",
    "G[1][2]['time'] = '2:30pm'\n",
    "G.edges[3, 4]['time'] = '4pm'\n",
    "list(G.adjacency())"
   ]
  },
  {
   "cell_type": "markdown",
   "metadata": {
    "slideshow": {
     "slide_type": "subslide"
    }
   },
   "source": [
    "### Edge Attributes (cont)\n",
    "\n",
    "Attribute `weight` is special, as it is used by several algorithms implemented in `networkx`. Therefore the attribute `weight` must be numeric."
   ]
  },
  {
   "cell_type": "code",
   "execution_count": 31,
   "metadata": {
    "slideshow": {
     "slide_type": "fragment"
    }
   },
   "outputs": [
    {
     "ename": "KeyError",
     "evalue": "3",
     "output_type": "error",
     "traceback": [
      "\u001b[0;31m---------------------------------------------------------------------------\u001b[0m",
      "\u001b[0;31mKeyError\u001b[0m                                  Traceback (most recent call last)",
      "\u001b[0;32m<ipython-input-31-80c719c3eb61>\u001b[0m in \u001b[0;36m<module>\u001b[0;34m\u001b[0m\n\u001b[0;32m----> 1\u001b[0;31m \u001b[0mG\u001b[0m\u001b[0;34m[\u001b[0m\u001b[0;36m1\u001b[0m\u001b[0;34m]\u001b[0m\u001b[0;34m[\u001b[0m\u001b[0;36m3\u001b[0m\u001b[0;34m]\u001b[0m\u001b[0;34m[\u001b[0m\u001b[0;34m'weight'\u001b[0m\u001b[0;34m]\u001b[0m \u001b[0;34m=\u001b[0m \u001b[0;36m2.3\u001b[0m\u001b[0;34m\u001b[0m\u001b[0;34m\u001b[0m\u001b[0m\n\u001b[0m",
      "\u001b[0;32m/usr/local/lib/python3.8/dist-packages/networkx/classes/coreviews.py\u001b[0m in \u001b[0;36m__getitem__\u001b[0;34m(self, key)\u001b[0m\n\u001b[1;32m     49\u001b[0m \u001b[0;34m\u001b[0m\u001b[0m\n\u001b[1;32m     50\u001b[0m     \u001b[0;32mdef\u001b[0m \u001b[0m__getitem__\u001b[0m\u001b[0;34m(\u001b[0m\u001b[0mself\u001b[0m\u001b[0;34m,\u001b[0m \u001b[0mkey\u001b[0m\u001b[0;34m)\u001b[0m\u001b[0;34m:\u001b[0m\u001b[0;34m\u001b[0m\u001b[0;34m\u001b[0m\u001b[0m\n\u001b[0;32m---> 51\u001b[0;31m         \u001b[0;32mreturn\u001b[0m \u001b[0mself\u001b[0m\u001b[0;34m.\u001b[0m\u001b[0m_atlas\u001b[0m\u001b[0;34m[\u001b[0m\u001b[0mkey\u001b[0m\u001b[0;34m]\u001b[0m\u001b[0;34m\u001b[0m\u001b[0;34m\u001b[0m\u001b[0m\n\u001b[0m\u001b[1;32m     52\u001b[0m \u001b[0;34m\u001b[0m\u001b[0m\n\u001b[1;32m     53\u001b[0m     \u001b[0;32mdef\u001b[0m \u001b[0mcopy\u001b[0m\u001b[0;34m(\u001b[0m\u001b[0mself\u001b[0m\u001b[0;34m)\u001b[0m\u001b[0;34m:\u001b[0m\u001b[0;34m\u001b[0m\u001b[0;34m\u001b[0m\u001b[0m\n",
      "\u001b[0;31mKeyError\u001b[0m: 3"
     ]
    }
   ],
   "source": [
    "G[1][3]['weight'] = 2.3"
   ]
  },
  {
   "cell_type": "markdown",
   "metadata": {
    "slideshow": {
     "slide_type": "fragment"
    }
   },
   "source": [
    "Oops! What is the error? \n",
    "* G[1] ... dict of node 1\n",
    "*  G[1][3] ... this dict does not contain node 3\n",
    "* it is note even in the graph"
   ]
  },
  {
   "cell_type": "markdown",
   "metadata": {
    "slideshow": {
     "slide_type": "subslide"
    }
   },
   "source": [
    "Once again with the `weight` attribute"
   ]
  },
  {
   "cell_type": "code",
   "execution_count": 32,
   "metadata": {
    "slideshow": {
     "slide_type": "fragment"
    }
   },
   "outputs": [
    {
     "name": "stdout",
     "output_type": "stream",
     "text": [
      "{1: {'round': 3, 'time': '2:30pm', 'weight': 3.2}, 3: {'time': '3pm', 'weight': 1.2}}\n",
      "{1: {'round': 3, 'time': '2:30pm', 'weight': 2}, 3: {'time': '3pm', 'weight': 1.2}}\n"
     ]
    }
   ],
   "source": [
    "G.add_edge(1,2,weight=3.2)\n",
    "G.add_weighted_edges_from([(2,3,1.2), (3,1,0.5)])\n",
    "print(G.adj[2])\n",
    "G[1][2]['weight'] = 2\n",
    "print(G.adj[2])"
   ]
  },
  {
   "cell_type": "markdown",
   "metadata": {
    "slideshow": {
     "slide_type": "slide"
    }
   },
   "source": [
    "## Directed Graphs"
   ]
  },
  {
   "cell_type": "markdown",
   "metadata": {
    "slideshow": {
     "slide_type": "fragment"
    }
   },
   "source": [
    "Directed graph are represented by the class `DiGraph` with some specific properties, like `DiGraph.out_edges()`, `Digraph.in_degree()`, `DiGraph.out_degree()`, `DiGraph.predecessors()`, `DiGraph.successors()`. Actually, the directed versions of `neighbors()` is equivalent to `successors()` while `degree` reports the sum of `in_degree` and `out_degree`. "
   ]
  },
  {
   "cell_type": "code",
   "execution_count": 33,
   "metadata": {
    "slideshow": {
     "slide_type": "fragment"
    }
   },
   "outputs": [
    {
     "name": "stdout",
     "output_type": "stream",
     "text": [
      "Node 1 \n",
      "\thas successors [2]\n",
      "\t predecessors [3]\n",
      "Neighbors of node 1 are [2]\n"
     ]
    }
   ],
   "source": [
    "DG = nx.DiGraph()\n",
    "DG.add_weighted_edges_from([(1, 2, 0.5), (3, 1, 0.75)])\n",
    "DG.out_degree(1, weight='weight')\n",
    "\n",
    "DG.degree(1, weight='weight')\n",
    "\n",
    "node = 1\n",
    "print('Node {} \\n\\thas successors {}\\n\\t predecessors {}'.format(\n",
    "    node, list(DG.successors(node)), list(DG.predecessors(node))) \n",
    "     )\n",
    "\n",
    "print('Neighbors of node {} are {}'.format(\n",
    "    node, list(DG.neighbors(node)))  )"
   ]
  },
  {
   "cell_type": "markdown",
   "metadata": {
    "slideshow": {
     "slide_type": "slide"
    }
   },
   "source": [
    "## Drawing Graphs\n",
    "\n"
   ]
  },
  {
   "cell_type": "code",
   "execution_count": 34,
   "metadata": {},
   "outputs": [],
   "source": [
    "import matplotlib.pyplot as plt"
   ]
  },
  {
   "cell_type": "code",
   "execution_count": 45,
   "metadata": {},
   "outputs": [
    {
     "data": {
      "image/png": "[encoded data removed]",
      "text/plain": [
       "<Figure size 432x288 with 2 Axes>"
      ]
     },
     "metadata": {},
     "output_type": "display_data"
    }
   ],
   "source": [
    "G = nx.petersen_graph()\n",
    "plt.subplot(121)\n",
    "\n",
    "#nx.draw(G, with_labels=True, font_weight='bold')\n",
    "nx.draw(G)\n",
    "plt.subplot(122)\n",
    "\n",
    "nx.draw_shell(G, nlist=[range(5, 10), range(5)], with_labels=True, font_weight='bold')"
   ]
  },
  {
   "cell_type": "code",
   "execution_count": 42,
   "metadata": {},
   "outputs": [
    {
     "data": {
      "image/png": "[encoded data removed]",
      "text/plain": [
       "<Figure size 432x288 with 2 Axes>"
      ]
     },
     "metadata": {},
     "output_type": "display_data"
    }
   ],
   "source": [
    "%matplotlib inline\n",
    "\n",
    "G = nx.petersen_graph()\n",
    "plt.subplot(121)\n",
    "\n",
    "#nx.draw(G, with_labels=True, font_weight='bold')\n",
    "nx.draw(G)\n",
    "plt.subplot(122)\n",
    "\n",
    "nx.draw_shell(G, nlist=[range(5, 10), range(5)], with_labels=True, font_weight='bold',\n",
    "              node_color=\"#00AAAA\")"
   ]
  },
  {
   "cell_type": "code",
   "execution_count": null,
   "metadata": {},
   "outputs": [],
   "source": []
  },
  {
   "cell_type": "markdown",
   "metadata": {
    "slideshow": {
     "slide_type": "fragment"
    }
   },
   "source": [
    "## Excercises"
   ]
  },
  {
   "attachments": {
    "image.png": {
     "image/png": "[encoded data removed]"
    }
   },
   "cell_type": "markdown",
   "metadata": {
    "collapsed": true
   },
   "source": [
    "### 1. Construct a Simple Graph\n",
    "\n",
    "Implement function `gener_house_graph()` that returns an undirected graph representing the following drawing\n",
    "\n",
    "![image.png](attachment:image.png)"
   ]
  },
  {
   "cell_type": "code",
   "execution_count": 89,
   "metadata": {},
   "outputs": [
    {
     "data": {
      "image/png": "[encoded data removed]",
      "text/plain": [
       "<Figure size 432x288 with 1 Axes>"
      ]
     },
     "metadata": {},
     "output_type": "display_data"
    }
   ],
   "source": [
    "def gener_house_graph():\n",
    "    G = nx.Graph()\n",
    "    G.add_edges_from([(\"A\",\"E\"),(\"A\",\"C\"),(\"A\",\"B\"),(\"B\",\"E\"),(\"B\",\"C\"),(\"E\",\"C\"),(\"E\",\"D\"),(\"C\",\"D\"),])\n",
    "    nx.fruchterman_reingold_layout(G)\n",
    "    p = {\"A\" : (0,0), \"B\" : (1,0), \"C\" : (1,0.5), \"D\" : (0.5,1), \"E\" : (0,0.5)}\n",
    "    pos =  nx.rescale_layout_dict(p)\n",
    "    nx.draw(G, pos=pos, with_labels=True, font_weight='bold', node_color=\"#00AAAA\")\n",
    "gener_house_graph()"
   ]
  },
  {
   "cell_type": "markdown",
   "metadata": {},
   "source": [
    "Implement the following functions, assume that graph is undirected if not said otherwise:"
   ]
  },
  {
   "cell_type": "code",
   "execution_count": 40,
   "metadata": {},
   "outputs": [],
   "source": [
    "def compute_diameter(G):\n",
    "    # returns the diameter of graph G\n",
    "    pass\n",
    "\n",
    "def compute_degrees(G):\n",
    "    # returns list of degrees of node in G\n",
    "    pass\n",
    "\n",
    "def avg_degree(G):\n",
    "    # return the average degree of nodes in G\n",
    "    pass\n",
    "\n",
    "def degree_histogram(G):\n",
    "    # plot histogram of degrees of nodes in graph G\n",
    "    pass"
   ]
  },
  {
   "cell_type": "markdown",
   "metadata": {},
   "source": [
    "A center of a graph is a node where the maximum distance (number of edges) traversed to any other node is a minimum, compared to any other node. Essentially, the center of a graph is the most centrally located node. Note that there may be more than one node that qualifies as the center of the graph."
   ]
  },
  {
   "cell_type": "code",
   "execution_count": 41,
   "metadata": {},
   "outputs": [],
   "source": [
    "def centers(G):\n",
    "    # return the list of all centers of graph G\n",
    "    pass\n",
    "\n",
    "def max_diameter_graph(Nodes):\n",
    "    # return a graph with the set of nodes Nodes and maximal possible diameter\n",
    "    pass\n",
    "\n",
    "def min_diameter_graph(Nodes):\n",
    "    # return a graph with the set of nodes Nodes and minimal diameter\n",
    "    pass\n",
    "\n"
   ]
  },
  {
   "cell_type": "code",
   "execution_count": 43,
   "metadata": {},
   "outputs": [],
   "source": [
    "def binomial_graph(N,prob):\n",
    "    # generate graph with N nodes 1,...,N where the probability that a pair \n",
    "    # of nodes is connected by an edge is prob\n",
    "    pass\n",
    "\n",
    "def describe_graph(G):\n",
    "    # print description of graph G. The description should list \n",
    "    # as many properties as possible. E.g., the number of nodes and edges,\n",
    "    # average degree, standard deviation from the average, number and names of different \n",
    "    # attributes of nodes, of edges, etc.\n",
    "    pass"
   ]
  },
  {
   "cell_type": "code",
   "execution_count": null,
   "metadata": {},
   "outputs": [],
   "source": [
    "G = nkarate_club"
   ]
  }
 ],
 "metadata": {
  "celltoolbar": "Slideshow",
  "kernelspec": {
   "display_name": "Python 3",
   "language": "python",
   "name": "python3"
  },
  "language_info": {
   "codemirror_mode": {
    "name": "ipython",
    "version": 3
   },
   "file_extension": ".py",
   "mimetype": "text/x-python",
   "name": "python",
   "nbconvert_exporter": "python",
   "pygments_lexer": "ipython3",
   "version": "3.8.5"
  }
 },
 "nbformat": 4,
 "nbformat_minor": 2
}
